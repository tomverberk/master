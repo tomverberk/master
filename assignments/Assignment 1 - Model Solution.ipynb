{
 "cells": [
  {
   "cell_type": "code",
   "execution_count": 1,
   "metadata": {},
   "outputs": [],
   "source": [
    "# Fill in your name using the given format\n",
    "your_name = \"LAST_NAME, FIRST_NAME\""
   ]
  },
  {
   "cell_type": "markdown",
   "metadata": {},
   "source": [
    "# Assignment 1\n",
    "We will study SVMs on the [Fashion-MNIST dataset](https://www.openml.org/d/40996).\n",
    "As we saw in the first lab session, it contains 70,000 images of fashion products, classified into 10 \n",
    "types of clothing, each represented by 28 by 28 pixel values. "
   ]
  },
  {
   "cell_type": "code",
   "execution_count": 2,
   "metadata": {},
   "outputs": [
    {
     "name": "stdout",
     "output_type": "stream",
     "text": [
      "OK. You may continue :)\n"
     ]
    }
   ],
   "source": [
    "# imports\n",
    "import pandas as pd\n",
    "import numpy as np\n",
    "import matplotlib.pyplot as plt\n",
    "import openml\n",
    "import time\n",
    "import math\n",
    "import tqdm\n",
    "%matplotlib inline\n",
    "\n",
    "# Pre-flight checklist. Do not change this code.\n",
    "# Make sure that you have installed recent versions of key packages.\n",
    "from packaging import version\n",
    "import sklearn\n",
    "sklearn_version = sklearn.__version__\n",
    "if version.parse(sklearn_version) < version.parse(\"0.24.0\"):\n",
    "    print(\"scikit-learn is outdated. Please update now! pip install -U scikit-learn\")\n",
    "else:\n",
    "    print(\"OK. You may continue :)\")"
   ]
  },
  {
   "cell_type": "code",
   "execution_count": 3,
   "metadata": {},
   "outputs": [],
   "source": [
    "# Download FMINST data. Takes a while the first time.\n",
    "fmnist = openml.datasets.get_dataset(40996)\n",
    "X, y, _, _ = fmnist.get_data(target=fmnist.default_target_attribute); \n",
    "fmnist_classes = {0:\"T-shirt/top\", 1: \"Trouser\", 2: \"Pullover\", 3: \"Dress\", 4: \"Coat\", 5: \"Sandal\", \n",
    "                  6: \"Shirt\", 7: \"Sneaker\", 8: \"Bag\", 9: \"Ankle boot\"}"
   ]
  },
  {
   "cell_type": "code",
   "execution_count": 4,
   "metadata": {},
   "outputs": [],
   "source": [
    "# Plotting functions. Don't edit these.\n",
    "%matplotlib inline\n",
    "from IPython import display\n",
    "\n",
    "def plot_live(X, y, evaluator, param_name, param_range, scale='log', ylim=(0,1), ylabel='score', marker = '.'):\n",
    "    \"\"\" Renders a plot that updates with every evaluation from the evaluator.\n",
    "    Keyword arguments:\n",
    "    X -- the data for training and testing\n",
    "    y -- the correct labels\n",
    "    evaluator -- a function with signature (X, y, param_value) that returns a dictionary of scores.\n",
    "                 Examples: {\"train\": 0.9, \"test\": 0.95} or {\"model_1\": 0.9, \"model_2\": 0.7}\n",
    "    param_name -- the parameter that is being varied on the X axis. Can be a hyperparameter, sample size,...\n",
    "    param_range -- list of all possible values on the x-axis\n",
    "    scale -- defines which scale to plot the x-axis on, either 'log' (logarithmic) or 'linear'\n",
    "    ylim -- tuple with the lowest and highest y-value to plot (e.g. (0, 1))\n",
    "    ylabel -- the y-axis title\n",
    "    \"\"\"\n",
    "    # Plot interactively\n",
    "    plt.ion()\n",
    "    plt.ylabel(ylabel)\n",
    "    plt.xlabel(param_name)\n",
    "    \n",
    "    # Make the scale look nice\n",
    "    plt.xscale(scale)\n",
    "    plt.xlim(param_range[0],param_range[-1])\n",
    "    plt.ylim(ylim)\n",
    "        \n",
    "    # Start from empty plot, then fill it\n",
    "    series = {}\n",
    "    lines = {}\n",
    "    xvals = []\n",
    "    for i in param_range:\n",
    "        scores = evaluator(X, y, i) \n",
    "        if i == param_range[0]: # initialize series\n",
    "            for k in scores.keys():\n",
    "                lines[k], = plt.plot(xvals, [], marker = marker, label = k)\n",
    "                series[k] = []\n",
    "        xvals.append(i)\n",
    "        for k in scores.keys(): # append new data\n",
    "            series[k].append(scores[k])\n",
    "            lines[k].set_data(xvals, series[k])\n",
    "        # refresh plot\n",
    "        plt.legend(loc='best')\n",
    "        plt.margins(0.1)\n",
    "        display.display(plt.gcf())\n",
    "        display.clear_output(wait=True)\n",
    "        \n",
    "def plot_examples(images, labels, row_length=5):\n",
    "    nr_rows = math.floor(len(images) /row_length)\n",
    "    if (len(images) % row_length) > 0:\n",
    "        nr_rows += 1\n",
    "    fig, axes = plt.subplots(nr_rows, row_length, figsize=(10, 3* nr_rows))\n",
    "    for i, n in enumerate(images):\n",
    "        if len(images) > row_length:\n",
    "            axes[math.floor(i/row_length)][i%row_length].imshow(n.reshape(28, 28), cmap=plt.cm.gray_r)\n",
    "            axes[math.floor(i/row_length)][i%row_length].set_xlabel(labels[i])\n",
    "            axes[math.floor(i/row_length)][i%row_length].set_xticks(())\n",
    "            axes[math.floor(i/row_length)][i%row_length].set_yticks(())\n",
    "        else:\n",
    "            axes[i].imshow(n.reshape(28, 28), cmap=plt.cm.gray_r)\n",
    "            axes[i].set_xlabel(labels[i])\n",
    "            axes[i].set_xticks(())\n",
    "            axes[i].set_yticks(())       \n",
    "    plt.show();"
   ]
  },
  {
   "cell_type": "markdown",
   "metadata": {},
   "source": [
    "### Question 1.1\n",
    "Implement a function `evaluate_SVM` that evaluates an SVM with RBF kernel for a given C and gamma value and returns the train and test score of a 5-fold cross-validation using the accuracy metric."
   ]
  },
  {
   "cell_type": "code",
   "execution_count": 5,
   "metadata": {},
   "outputs": [],
   "source": [
    "# Implement\n",
    "def evaluate_SVM(X, y, C, gamma):\n",
    "    \"\"\" Evaluate an SVM with 5-fold cross-validation on the provided (X, y) data. \n",
    "    Keyword arguments:\n",
    "    X -- the data for training and testing\n",
    "    y -- the correct labels\n",
    "    gamma -- the value for the gamma parameter\n",
    "    \n",
    "    Returns: a dictionary with the mean train and test score, e.g. {\"train\": 0.9, \"test\": 0.95}\n",
    "    \"\"\"\n",
    "    pass"
   ]
  },
  {
   "cell_type": "code",
   "execution_count": 6,
   "metadata": {},
   "outputs": [],
   "source": [
    "# MODEL IMPLEMENTATION:\n",
    "from sklearn.model_selection import cross_validate\n",
    "from sklearn.svm import SVC\n",
    "def evaluate_SVM(X, y, C, gamma):\n",
    "    \"\"\" Evaluate an SVM with 5-fold cross-validation on the provided (X, y) data. \n",
    "    Keyword arguments:\n",
    "    X -- the data for training and testing\n",
    "    y -- the correct labels\n",
    "    gamma -- the value for the gamma parameter\n",
    "    \n",
    "    Returns: a dictionary with the mean train and test score, e.g. {\"train\": 0.9, \"test\": 0.95}\n",
    "    \"\"\"\n",
    "    score = cross_validate(SVC(gamma=gamma, C=C), X, y, return_train_score= True, n_jobs=-1)\n",
    "    res = {'train': np.mean(score['train_score']),\n",
    "           'test': np.mean(score['test_score'])}\n",
    "    return res"
   ]
  },
  {
   "cell_type": "markdown",
   "metadata": {},
   "source": [
    "Implement a function `plot_1` that plots the results of `evaluate_SVM` on a 1% stratified subsample of the FMNIST dataset for gamma values ranging from 1e-12 to 1e12 (25 values on a log scale), and C=1. You can use the plotting functions `plot_live` defined above, and add any helper functions you like. Note: using a 1% subsample indeed won't give you optimal performance, but this is meant to make the assignment more doable."
   ]
  },
  {
   "cell_type": "code",
   "execution_count": 7,
   "metadata": {},
   "outputs": [],
   "source": [
    "# Implement. Do not change the name or signature of this function.\n",
    "def plot_1():\n",
    "    pass\n",
    "plot_1()"
   ]
  },
  {
   "cell_type": "code",
   "execution_count": 8,
   "metadata": {},
   "outputs": [
    {
     "data": {
      "image/png": "[encoded data removed]",
      "text/plain": [
       "<Figure size 432x288 with 1 Axes>"
      ]
     },
     "metadata": {
      "needs_background": "light"
     },
     "output_type": "display_data"
    }
   ],
   "source": [
    "# MODEL IMPLEMENTATION\n",
    "from sklearn.model_selection import train_test_split\n",
    "\n",
    "# Helper function. Uses a closure to fix the C parameter\n",
    "def evaluate_SVM_with_C(C):\n",
    "    def f(X,y,gamma):\n",
    "        return evaluate_SVM(X, y, C, gamma)\n",
    "    return f\n",
    "def evaluate_SVM_with_gamma(gamma):\n",
    "    def f(X,y,C):\n",
    "        return evaluate_SVM(X, y, C, gamma)\n",
    "    return f\n",
    "\n",
    "def plot_1():\n",
    "    Xs, _, ys, _ = train_test_split(X,y, stratify=y, train_size=0.01, random_state=0)\n",
    "    param_name = 'gamma'\n",
    "    param_range = np.logspace(-12, 12, num=25)\n",
    "    plot_live(Xs, ys, evaluate_SVM_with_C(1), param_name, param_range, scale='log', ylim=(0,1.1))\n",
    "plot_1()"
   ]
  },
  {
   "cell_type": "markdown",
   "metadata": {},
   "source": [
    "### Question 1.2\n",
    "Interpret the graph. Answer the following questions with multiple choice:  \n",
    "- 'A': Underfitting\n",
    "- 'B': Overfitting\n",
    "- 'C': Neither underfitting nor overfitting\n",
    "- 'D': No answer"
   ]
  },
  {
   "cell_type": "markdown",
   "metadata": {},
   "source": [
    "For the gamma value 1e-9, is the model over- or underfitting?"
   ]
  },
  {
   "cell_type": "code",
   "execution_count": 9,
   "metadata": {},
   "outputs": [],
   "source": [
    "# Fill in the correct answer. Don't change the name of the variable\n",
    "q_1_2_1 = 'D'"
   ]
  },
  {
   "cell_type": "code",
   "execution_count": 10,
   "metadata": {},
   "outputs": [],
   "source": [
    "# MODEL RESPONSE: test and train score are both low, hence underfitting\n",
    "q_1_2_1 = 'A'"
   ]
  },
  {
   "cell_type": "markdown",
   "metadata": {},
   "source": [
    "For the gamma value 1e3, is the model over- or underfitting?"
   ]
  },
  {
   "cell_type": "code",
   "execution_count": 11,
   "metadata": {},
   "outputs": [],
   "source": [
    "# Fill in the correct answer. Don't change the name of the variable\n",
    "q_1_2_2 = 'D'"
   ]
  },
  {
   "cell_type": "code",
   "execution_count": 12,
   "metadata": {},
   "outputs": [],
   "source": [
    "# MODEL RESPONSE: train score is high and test score is lower that the optimum, hence overfitting\n",
    "q_1_2_2 = 'B'"
   ]
  },
  {
   "cell_type": "markdown",
   "metadata": {},
   "source": [
    "### Question 1.3\n",
    "Implement a function `plot_1_3` that plots the graph similar as in question 1.1, but this time, fix `gamma` to the optimal value you observed in question 1.1, and vary `C` from 1e-12 to 1e12 (25 values on a log scale)."
   ]
  },
  {
   "cell_type": "code",
   "execution_count": 13,
   "metadata": {},
   "outputs": [],
   "source": [
    "# Implement. Do not change the name or signature of this function.\n",
    "def plot_1_3():\n",
    "    pass\n",
    "plot_1_3()"
   ]
  },
  {
   "cell_type": "code",
   "execution_count": 14,
   "metadata": {},
   "outputs": [
    {
     "data": {
      "image/png": "[encoded data removed]",
      "text/plain": [
       "<Figure size 432x288 with 1 Axes>"
      ]
     },
     "metadata": {
      "needs_background": "light"
     },
     "output_type": "display_data"
    }
   ],
   "source": [
    "# MODEL IMPLEMENTATION\n",
    "def plot_1_3():\n",
    "    Xs, _, ys, _ = train_test_split(X,y, stratify=y, train_size=0.01)\n",
    "    param_name = 'C'\n",
    "    param_range = np.logspace(-12, 12, num=25)\n",
    "    plot_live(Xs, ys, evaluate_SVM_with_gamma(1e-7), param_name, param_range, scale='log', ylim=(0,1.1))\n",
    "plot_1_3()"
   ]
  },
  {
   "cell_type": "markdown",
   "metadata": {},
   "source": [
    "### Question 1.4\n",
    "Interpret the graph. "
   ]
  },
  {
   "cell_type": "markdown",
   "metadata": {},
   "source": [
    "For the C value 1e6, is the model over- or underfitting?\n",
    "- 'A': Strongly underfitting\n",
    "- 'B': Strongly overfitting\n",
    "- 'C': Neither underfitting nor overfitting\n",
    "- 'D': No answer"
   ]
  },
  {
   "cell_type": "code",
   "execution_count": 15,
   "metadata": {},
   "outputs": [],
   "source": [
    "# Fill in the correct answer. Don't change the name of the variable\n",
    "q_1_4_1 = 'D'"
   ]
  },
  {
   "cell_type": "code",
   "execution_count": 16,
   "metadata": {},
   "outputs": [],
   "source": [
    "# MODEL RESPONSE: C is the best answer. There is a tiny bump at C=100 but the model is not strongly overfitting.\n",
    "q_1_4_1 = 'C'"
   ]
  },
  {
   "cell_type": "markdown",
   "metadata": {},
   "source": [
    "Explain your observations as a string in `answer_q_1_4`. What is the effect of using high C values on performance? How do you explain this? Use no more than 800 characters."
   ]
  },
  {
   "cell_type": "code",
   "execution_count": 17,
   "metadata": {},
   "outputs": [
    {
     "name": "stdout",
     "output_type": "stream",
     "text": [
      "Answer is 44 characters long\n"
     ]
    }
   ],
   "source": [
    "answer_q_1_4 = \"\"\"\n",
    "               Your answer \n",
    "               \"\"\"\n",
    "print(\"Answer is {} characters long\".format(len(answer_q_1_4)))"
   ]
  },
  {
   "cell_type": "code",
   "execution_count": 18,
   "metadata": {},
   "outputs": [],
   "source": [
    "# MODEL IMPLEMENTATION\n",
    "answer_q_1_4 = \"\"\"\n",
    "               By increasing C (less regularization), the model is more likely to overfit. However, this is countered by using a small enough gamma \n",
    "               (wider kernels, more regularization). We see that the model never really overfits. This shows that the kernel width (gamma) is a \n",
    "               very good regularizer by itself. As C gets larger, the margin will get narrower until it can shrink no further because there are no \n",
    "               more data points left in the margin. After that, all models are identical, hence the flat line.\n",
    "               \"\"\""
   ]
  },
  {
   "cell_type": "markdown",
   "metadata": {},
   "source": [
    "## Question 2\n",
    "Train a linear SVM with two different methods and compare them in terms of performance and scalability\n",
    "- SVM with quadratic programming, as in `SVC`\n",
    "- SVM with stochastic gradient descent\n",
    "\n",
    "Think about which settings (loss functions, kernels, other settings) you need to use. Otherwise, you can leave hyperparameters at their defaults. \n",
    "Train both methods on 10 increasingly large stratified subsamples of the dataset, from 1% to 10%. Make sure that the larger samples contain all data from the smaller samples.\n",
    "\n",
    "### Question 2.1\n",
    "Implement a function `plot_2_1` that produces two plots. The first plot should show training time vs dataset size (or percentage). To get meaningful timing information, run both methods on the same machine with the same number of cores. You can use the standard 'time' package to measure runtime. The second plot should show the test set accuracy vs dataset size (or percentage). The test set consists of all the points not used for testing that model (hence 99% initially). Don't forget to add axis labels and legends."
   ]
  },
  {
   "cell_type": "code",
   "execution_count": 19,
   "metadata": {},
   "outputs": [],
   "source": [
    "# Implement. Do not change the name or signature of this function.\n",
    "def plot_2_1():\n",
    "    pass\n",
    "plot_2_1()"
   ]
  },
  {
   "cell_type": "code",
   "execution_count": 20,
   "metadata": {},
   "outputs": [
    {
     "data": {
      "application/vnd.jupyter.widget-view+json": {
       "model_id": "79b11362dbe749e790ded45f5991b86a",
       "version_major": 2,
       "version_minor": 0
      },
      "text/plain": [
       "HBox(children=(HTML(value=''), FloatProgress(value=0.0, max=10.0), HTML(value='')))"
      ]
     },
     "metadata": {},
     "output_type": "display_data"
    },
    {
     "name": "stdout",
     "output_type": "stream",
     "text": [
      "\n"
     ]
    },
    {
     "data": {
      "image/png": "[encoded data removed]",
      "text/plain": [
       "<Figure size 720x360 with 2 Axes>"
      ]
     },
     "metadata": {
      "needs_background": "light"
     },
     "output_type": "display_data"
    }
   ],
   "source": [
    "# MODEL IMPLEMENTATION\n",
    "import time\n",
    "from tqdm.notebook import tqdm\n",
    "from sklearn.model_selection import train_test_split\n",
    "\n",
    "from sklearn.linear_model import SGDClassifier\n",
    "# Helper function, returns test set accuracy and training for the given classifier and the given percentage split\n",
    "def fit_time(clf,X,y,percentage):\n",
    "    X_train, X_test, y_train, y_test = train_test_split(X,y, stratify=y, train_size=percentage, random_state=0)\n",
    "    start = time.time()\n",
    "    clf.fit(X_train,y_train)\n",
    "    train_time = time.time()-start\n",
    "    acc = clf.score(X_test,y_test)\n",
    "    return train_time, acc\n",
    "    \n",
    "def plot_2_1():\n",
    "    scores_SVC = []\n",
    "    scores_SGD = []\n",
    "    times_SVC = []\n",
    "    times_SGD = []\n",
    "    sizes = np.linspace(0.01,0.1,10)\n",
    "    for p in tqdm(sizes):\n",
    "        time, acc = fit_time(SVC(kernel='linear'),X,y,p)\n",
    "        times_SVC.append(time)\n",
    "        scores_SVC.append(acc)\n",
    "        time, acc = fit_time(SGDClassifier(loss='hinge'),X,y,p)\n",
    "        times_SGD.append(time)\n",
    "        scores_SGD.append(acc)\n",
    "        \n",
    "    fig, axes = plt.subplots(1, 2,  figsize=(10, 5))\n",
    "    axes[0].plot(sizes,scores_SVC,label=\"SVM_SMO\")\n",
    "    axes[0].plot(sizes,scores_SGD,label=\"SVM_SGD\")\n",
    "    axes[0].set_xlabel(\"Percentage of dataset size\")\n",
    "    axes[0].set_ylabel(\"Accuracy\")\n",
    "    axes[0].legend()\n",
    "    axes[1].plot(sizes,times_SVC,label=\"SVM_SMO\")\n",
    "    axes[1].plot(sizes,times_SGD,label=\"SVM_SGD\")\n",
    "    axes[1].set_xlabel(\"Percentage of dataset size\")\n",
    "    axes[1].set_ylabel(\"Training time (s)\")\n",
    "    axes[1].legend()\n",
    "    plt.tight_layout()\n",
    "    \n",
    "plot_2_1()"
   ]
  },
  {
   "cell_type": "markdown",
   "metadata": {},
   "source": [
    "### Question 2.2\n",
    "Interpret the graphs. Which of the following is correct. Multiple correct answers are possible. You can run additional experiments if you are not sure. You can leave an optional clarification in `q_2_2_comment`.\n",
    "- 'A': The quadratic programming SVM is better at learning from small datasets, but is also a low slower than SGD\n",
    "- 'B': The quadratic programming SVM is about equally good and trains equally fast as SGD\n",
    "- 'C': The quadratic programming SVM is about equally good and trains faster than SGD\n",
    "- 'D': The SGD SVM is equally good as the quadratic programming SVM given sufficent data, and faster\n",
    "- 'E': The SGD SVM is better at learning from small datasets, and trains equally fast as the quadratic programming SVM\n",
    "- 'F': The SGD SVM is worse at learning from small datasets, but given more data it will be equally good in the same amount of time\n",
    "- 'G': The linear kernel performs much worse than the RBF kernel used in the previous questions"
   ]
  },
  {
   "cell_type": "code",
   "execution_count": 21,
   "metadata": {},
   "outputs": [],
   "source": [
    "# Fill in the correct answer. Don't change the name of the variable. For multiple answers, use comma-separated values as shown.\n",
    "q_2_2 = 'A,B,C,D'\n",
    "q_2_2_comment = '' # Optional. Only use when you feel that you need to clarify something."
   ]
  },
  {
   "cell_type": "code",
   "execution_count": 22,
   "metadata": {},
   "outputs": [],
   "source": [
    "# MODEL ANSWER\n",
    "q_2_2 = 'A,D,F'\n",
    "q_2_2_comment = 'SVM_SMO (quadratic programming) is almost 3% better on small datasets, but less than 1% on larger datasets, and SVM_SGD is faster. Results may vary, but in these experiments both linear and RFB kernels reach about 80% accuracy.' "
   ]
  },
  {
   "cell_type": "code",
   "execution_count": 23,
   "metadata": {},
   "outputs": [
    {
     "data": {
      "text/plain": [
       "0.8075"
      ]
     },
     "execution_count": 23,
     "metadata": {},
     "output_type": "execute_result"
    }
   ],
   "source": [
    "X_train, X_test, y_train, y_test = train_test_split(X,y, stratify=y, train_size=.8, random_state=0)\n",
    "sgd = SGDClassifier(loss='hinge').fit(X_train,y_train)\n",
    "acc = sgd.score(X_test,y_test)\n",
    "acc"
   ]
  },
  {
   "cell_type": "markdown",
   "metadata": {},
   "source": [
    "## Question 3\n",
    "Inspect the SVM model to see whether it has learned the right thing.\n",
    "\n",
    "First, relabel the data into a binary problem. Make class 1 \"Trouser\" the positive class and all other classes the negative class.\n",
    "Next, train an SVM using C=1 and gamma=1e-7 on a 1% stratified subsample (as before).\n",
    "\n",
    "Implement a function `plot_3_` that plots the 5 support vectors with the highest dual coefficients (as images), as well as the 5 support vectors with the lowest dual coefficients. You can use the plotting function `plot_examples` (see above) and add the values of the dual coefficients as labels. If there are more than 5 support vectors with the highest/lowest value you can choose any of them. For plotting, you can use the `plot_examples` method given above.\n",
    "\n",
    "Explain your observations as a string in `answer_q_3`. What do the support vectors teach you about the model? How does it actually makes its predictions? Use no more than 800 characters."
   ]
  },
  {
   "cell_type": "code",
   "execution_count": 24,
   "metadata": {},
   "outputs": [
    {
     "name": "stdout",
     "output_type": "stream",
     "text": [
      "Answer is 40 characters long\n"
     ]
    }
   ],
   "source": [
    "# Implement. Do not change the name or signature of this function.\n",
    "def plot_3_1():\n",
    "    pass\n",
    "plot_3_1()\n",
    "\n",
    "answer_q_3 = \"\"\"\n",
    "             Your answer \n",
    "             \"\"\"\n",
    "print(\"Answer is {} characters long\".format(len(answer_q_3)))"
   ]
  },
  {
   "cell_type": "code",
   "execution_count": 25,
   "metadata": {},
   "outputs": [
    {
     "name": "stdout",
     "output_type": "stream",
     "text": [
      "Positive support vectors\n"
     ]
    },
    {
     "data": {
      "image/png": "[encoded data removed]",
      "text/plain": [
       "<Figure size 720x216 with 5 Axes>"
      ]
     },
     "metadata": {},
     "output_type": "display_data"
    },
    {
     "name": "stdout",
     "output_type": "stream",
     "text": [
      "Negative support vectors\n"
     ]
    },
    {
     "data": {
      "image/png": "[encoded data removed]",
      "text/plain": [
       "<Figure size 720x216 with 5 Axes>"
      ]
     },
     "metadata": {},
     "output_type": "display_data"
    }
   ],
   "source": [
    "# MODEL IMPLEMENTATION\n",
    "def plot_3_1():\n",
    "    # Relabel and fit. Using 10% here for more stable results. Change to 0.01 for 1%.\n",
    "    Xs, _, ys, _ = train_test_split(X,y, stratify=y, train_size=0.1, random_state=0)\n",
    "    svm = SVC(gamma=1e-7).fit(Xs,ys == '1')\n",
    "    coef = svm.dual_coef_[0]\n",
    "    # Top positive\n",
    "    print(\"Positive support vectors\")\n",
    "    top = np.argsort(-coef)[:5]\n",
    "    plot_examples(svm.support_vectors_[top],coef[top])\n",
    "    # Top negative\n",
    "    print(\"Negative support vectors\")\n",
    "    bottom = np.argsort(coef)[:5]\n",
    "    plot_examples(svm.support_vectors_[bottom],coef[bottom])\n",
    "plot_3_1()"
   ]
  },
  {
   "cell_type": "code",
   "execution_count": 26,
   "metadata": {},
   "outputs": [],
   "source": [
    "answer_q_3 = \"\"\"\n",
    "             The positive support vectors are all showing trousers. This should the case by definition. Interestingly, the negative examples are all dresses. \n",
    "             Hence, dresses are the most similar to trousers in the data, and the model makes predictions by checking whether a new image is closer \n",
    "             to being trousers than dresses.\n",
    "             \"\"\""
   ]
  },
  {
   "cell_type": "code",
   "execution_count": null,
   "metadata": {},
   "outputs": [],
   "source": []
  }
 ],
 "metadata": {
  "anaconda-cloud": {},
  "kernelspec": {
   "display_name": "Python 3",
   "language": "python",
   "name": "python3"
  },
  "language_info": {
   "codemirror_mode": {
    "name": "ipython",
    "version": 3
   },
   "file_extension": ".py",
   "mimetype": "text/x-python",
   "name": "python",
   "nbconvert_exporter": "python",
   "pygments_lexer": "ipython3",
   "version": "3.8.5"
  }
 },
 "nbformat": 4,
 "nbformat_minor": 4
}
